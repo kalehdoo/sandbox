{
  "nbformat": 4,
  "nbformat_minor": 0,
  "metadata": {
    "colab": {
      "name": "P001.ipynb",
      "provenance": [],
      "collapsed_sections": [],
      "authorship_tag": "ABX9TyM2E2HvAhQozZuytlK72KJu",
      "include_colab_link": true
    },
    "kernelspec": {
      "name": "python3",
      "display_name": "Python 3"
    },
    "language_info": {
      "name": "python"
    }
  },
  "cells": [
    {
      "cell_type": "markdown",
      "metadata": {
        "id": "view-in-github",
        "colab_type": "text"
      },
      "source": [
        "<a href=\"https://colab.research.google.com/github/kalehdoo/sandbox/blob/main/P001.ipynb\" target=\"_parent\"><img src=\"https://colab.research.google.com/assets/colab-badge.svg\" alt=\"Open In Colab\"/></a>"
      ]
    },
    {
      "cell_type": "markdown",
      "source": [
        "# Numpy Tutorial"
      ],
      "metadata": {
        "id": "Sf7sY8A19rXK"
      }
    },
    {
      "cell_type": "code",
      "execution_count": 6,
      "metadata": {
        "colab": {
          "base_uri": "https://localhost:8080/"
        },
        "id": "4QMo7xbs6dz-",
        "outputId": "61e9cc71-a8ff-4231-fb94-414acfffc93a"
      },
      "outputs": [
        {
          "output_type": "stream",
          "name": "stdout",
          "text": [
            "[1 2 3 4 5]\n",
            "<class 'numpy.ndarray'>\n"
          ]
        }
      ],
      "source": [
        "import numpy as np\n",
        "arr = np.array([1, 2, 3, 4, 5]) \n",
        "\n",
        "print(arr)\n",
        "print(type(arr))"
      ]
    },
    {
      "cell_type": "code",
      "source": [
        "print(np.__version__)"
      ],
      "metadata": {
        "colab": {
          "base_uri": "https://localhost:8080/"
        },
        "id": "CUfHaobBDkGL",
        "outputId": "bfbc76b4-85f1-4204-bd32-23577ebaf019"
      },
      "execution_count": 5,
      "outputs": [
        {
          "output_type": "stream",
          "name": "stdout",
          "text": [
            "1.19.5\n"
          ]
        }
      ]
    },
    {
      "cell_type": "code",
      "source": [
        "ndarray_0dim = np.array(1)\n",
        "print(ndarray_0dim)\n",
        "ndarray_1dim = np.array([1,3,2])\n",
        "print(ndarray_1dim)\n",
        "ndarray_2dim = np.array([[1,2,3],[1,3,5]])\n",
        "print(ndarray_2dim)\n",
        "print(ndarray_2dim[1,2])\n",
        "ndarray_3dim = np.array(\n",
        "    [\n",
        "     [\n",
        "     [1,3,4],[1,4,6]\n",
        "     ],\n",
        "     [\n",
        "      [1,3,5],[1,6,7]\n",
        "     ]\n",
        "    ]\n",
        "     \n",
        ")\n",
        "print(ndarray_3dim)\n",
        "print(ndarray_3dim.ndim)"
      ],
      "metadata": {
        "colab": {
          "base_uri": "https://localhost:8080/"
        },
        "id": "cUtt3XfiGyYd",
        "outputId": "f9f3ec1c-3517-48e4-8c41-17009bec1562"
      },
      "execution_count": 21,
      "outputs": [
        {
          "output_type": "stream",
          "name": "stdout",
          "text": [
            "1\n",
            "[1 3 2]\n",
            "[[1 2 3]\n",
            " [1 3 5]]\n",
            "5\n",
            "[[[1 3 4]\n",
            "  [1 4 6]]\n",
            "\n",
            " [[1 3 5]\n",
            "  [1 6 7]]]\n",
            "3\n"
          ]
        }
      ]
    },
    {
      "cell_type": "code",
      "source": [
        "create_array = np.array([1,6,2], ndmin=5)\n",
        "print(create_array)"
      ],
      "metadata": {
        "colab": {
          "base_uri": "https://localhost:8080/"
        },
        "id": "5vuhEhZ2Jm1b",
        "outputId": "86bc5907-26cc-4d0d-f22c-be7e8db00de9"
      },
      "execution_count": 20,
      "outputs": [
        {
          "output_type": "stream",
          "name": "stdout",
          "text": [
            "[[[[[1 6 2]]]]]\n"
          ]
        }
      ]
    }
  ]
}